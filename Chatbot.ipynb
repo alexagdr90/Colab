{
  "cells": [
    {
      "cell_type": "markdown",
      "metadata": {
        "id": "view-in-github",
        "colab_type": "text"
      },
      "source": [
        "<a href=\"https://colab.research.google.com/github/alexagdr90/DeepLearning/blob/main/Chatbot.ipynb\" target=\"_parent\"><img src=\"https://colab.research.google.com/assets/colab-badge.svg\" alt=\"Open In Colab\"/></a>"
      ]
    },
    {
      "cell_type": "code",
      "execution_count": null,
      "metadata": {
        "colab": {
          "base_uri": "https://localhost:8080/"
        },
        "id": "SUnfsnXX9TLb",
        "outputId": "1452f151-7a90-4dcc-f869-3139f22798ea"
      },
      "outputs": [
        {
          "name": "stdout",
          "output_type": "stream",
          "text": [
            "Collecting chatterbot\n",
            "  Downloading ChatterBot-1.0.8-py2.py3-none-any.whl (63 kB)\n",
            "\u001b[K     |████████████████████████████████| 63 kB 2.0 MB/s \n",
            "\u001b[?25hCollecting sqlalchemy<1.4,>=1.3\n",
            "  Downloading SQLAlchemy-1.3.24-cp37-cp37m-manylinux2010_x86_64.whl (1.3 MB)\n",
            "\u001b[K     |████████████████████████████████| 1.3 MB 20.8 MB/s \n",
            "\u001b[?25hRequirement already satisfied: pytz in /usr/local/lib/python3.7/dist-packages (from chatterbot) (2018.9)\n",
            "Collecting mathparse<0.2,>=0.1\n",
            "  Downloading mathparse-0.1.2-py3-none-any.whl (7.2 kB)\n",
            "Requirement already satisfied: python-dateutil<2.9,>=2.8 in /usr/local/lib/python3.7/dist-packages (from chatterbot) (2.8.2)\n",
            "Requirement already satisfied: six>=1.5 in /usr/local/lib/python3.7/dist-packages (from python-dateutil<2.9,>=2.8->chatterbot) (1.15.0)\n",
            "Installing collected packages: sqlalchemy, mathparse, chatterbot\n",
            "  Attempting uninstall: sqlalchemy\n",
            "    Found existing installation: SQLAlchemy 1.4.29\n",
            "    Uninstalling SQLAlchemy-1.4.29:\n",
            "      Successfully uninstalled SQLAlchemy-1.4.29\n",
            "Successfully installed chatterbot-1.0.8 mathparse-0.1.2 sqlalchemy-1.3.24\n"
          ]
        }
      ],
      "source": [
        "!pip install chatterbot"
      ]
    },
    {
      "cell_type": "code",
      "execution_count": null,
      "metadata": {
        "colab": {
          "background_save": true,
          "base_uri": "https://localhost:8080/"
        },
        "id": "U452gVLs9sk6",
        "outputId": "54aeb82f-9e66-4480-a2a3-510d20309782"
      },
      "outputs": [
        {
          "name": "stdout",
          "output_type": "stream",
          "text": [
            "List Trainer: [####################] 100%\n",
            "List Trainer: [####################] 100%\n",
            "Gracias\n"
          ]
        }
      ],
      "source": [
        "from chatterbot import ChatBot\n",
        "from chatterbot.trainers import ListTrainer\n",
        "import os\n",
        "\n",
        "bot = ChatBot(\n",
        "    'BOT ALEX',\n",
        "    storage_adapter='chatterbot.storage.SQLStorageAdapter',\n",
        "    database_url='sqlite:///basedatosconversacion.sqlite3',\n",
        "    logic_adapters=[\n",
        "        \"chatterbot.logic.BestMatch\"\n",
        "    ]\n",
        ")\n",
        "\n",
        "\n",
        "trainer = ListTrainer(bot)\n",
        "\n",
        "trainer.train([\n",
        "               '¿Hola, cómo estás?',\n",
        "               'Bien, gracias.',\n",
        "               'Me alegro mucho.',\n",
        "               'Gracias'\n",
        "])\n",
        "\n",
        "trainer.train([\n",
        "               '¿Hola, cómo estás?',\n",
        "               'Estoy genial',\n",
        "               '¡Que bien!',\n",
        "               'Gracias',\n",
        "    ]\n",
        ")\n",
        "\n",
        "\n",
        "while True:\n",
        "  try:\n",
        "    bot_input=bot.get_response(input())\n",
        "    print(bot_input)\n",
        "  except(keyboardInterrupt, EOFError, SystemExit):\n",
        "    break"
      ]
    }
  ],
  "metadata": {
    "colab": {
      "collapsed_sections": [],
      "name": "Chatbot.ipynb",
      "provenance": [],
      "authorship_tag": "ABX9TyNlv/wtY4Ed6gxSXsmdZbxF",
      "include_colab_link": true
    },
    "kernelspec": {
      "display_name": "Python 3",
      "name": "python3"
    },
    "language_info": {
      "name": "python"
    }
  },
  "nbformat": 4,
  "nbformat_minor": 0
}